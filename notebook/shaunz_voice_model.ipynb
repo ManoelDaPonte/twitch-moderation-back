{
 "cells": [
  {
   "cell_type": "code",
   "execution_count": 1,
   "metadata": {},
   "outputs": [],
   "source": [
    "from elevenlabs.client import ElevenLabs\n",
    "from dotenv import load_dotenv\n",
    "import os\n",
    "\n",
    "# Load environment variables from .env file\n",
    "load_dotenv()\n",
    "\n",
    "ELEVEN_API_KEY=os.environ.get(\"ELEVEN_API_KEY\")\n"
   ]
  },
  {
   "cell_type": "code",
   "execution_count": 13,
   "metadata": {},
   "outputs": [
    {
     "name": "stdout",
     "output_type": "stream",
     "text": [
      "Audio saved as output_audio.mp3.\n"
     ]
    }
   ],
   "source": [
    "import requests\n",
    "\n",
    "url = \"https://api.elevenlabs.io/v1/text-to-speech/h35PbKYYARf74PkVJ4bu\"\n",
    "\n",
    "payload = {\n",
    "    \"model_id\": \"eleven_multilingual_v2\",\n",
    "    \"text\": \"Hier j'ai mangé une pomme.\"\n",
    "}\n",
    "headers = {\n",
    "    \"xi-api-key\": ELEVEN_API_KEY,\n",
    "    \"Content-Type\": \"application/json\"\n",
    "}\n",
    "\n",
    "# Sending the POST request to the TTS API\n",
    "response = requests.post(url, json=payload, headers=headers)\n",
    "\n",
    "# Assuming the response contains binary audio data, save it to a file\n",
    "if response.status_code == 200:\n",
    "    # Define the filename and the mode to write binary data\n",
    "    filename = \"output_audio.mp3\"  # Or .wav, depending on the API response format\n",
    "    with open(filename, \"wb\") as audio_file:\n",
    "        audio_file.write(response.content)\n",
    "    print(f\"Audio saved as {filename}.\")\n",
    "else:\n",
    "    print(\"Failed to generate audio. Status code:\", response.status_code)"
   ]
  },
  {
   "cell_type": "code",
   "execution_count": null,
   "metadata": {},
   "outputs": [],
   "source": []
  }
 ],
 "metadata": {
  "kernelspec": {
   "display_name": "twitch-moderation-env",
   "language": "python",
   "name": "python3"
  },
  "language_info": {
   "codemirror_mode": {
    "name": "ipython",
    "version": 3
   },
   "file_extension": ".py",
   "mimetype": "text/x-python",
   "name": "python",
   "nbconvert_exporter": "python",
   "pygments_lexer": "ipython3",
   "version": "3.12.1"
  }
 },
 "nbformat": 4,
 "nbformat_minor": 2
}
