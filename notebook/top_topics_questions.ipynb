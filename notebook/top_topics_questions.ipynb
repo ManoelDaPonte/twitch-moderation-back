{
 "cells": [
  {
   "cell_type": "code",
   "execution_count": 2,
   "metadata": {},
   "outputs": [
    {
     "name": "stderr",
     "output_type": "stream",
     "text": [
      "/var/folders/k5/m5nnd_h942q4bfsf6qyr5bsw0000gn/T/ipykernel_52665/2919882598.py:4: DeprecationWarning: \n",
      "Pyarrow will become a required dependency of pandas in the next major release of pandas (pandas 3.0),\n",
      "(to allow more performant data types, such as the Arrow string type, and better interoperability with other libraries)\n",
      "but was not found to be installed on your system.\n",
      "If this would cause problems for you,\n",
      "please provide us feedback at https://github.com/pandas-dev/pandas/issues/54466\n",
      "        \n",
      "  import pandas as pd\n"
     ]
    }
   ],
   "source": [
    "from sklearn.cluster import KMeans\n",
    "from openai import OpenAI\n",
    "from tqdm import tqdm\n",
    "import pandas as pd\n",
    "import numpy as np\n",
    "\n",
    "import datetime\n",
    "import random\n",
    "\n",
    "\n",
    "client = OpenAI()\n",
    "tqdm.pandas()"
   ]
  },
  {
   "cell_type": "code",
   "execution_count": 17,
   "metadata": {},
   "outputs": [
    {
     "name": "stdout",
     "output_type": "stream",
     "text": [
      "What's your favorite game to stream and why?\n",
      "Any tips for new streamers just starting out?\n",
      "What setup do you use for streaming?\n",
      "How do you deal with trolls in chat?\n",
      "Can you explain your stream schedule?\n",
      "What was your most memorable streaming moment?\n",
      "How do you choose what games to play on stream?\n",
      "What's the best way to support your channel?\n",
      "How long have you been streaming?\n",
      "What do you enjoy most about streaming?\n",
      "Do you have any streaming rituals or routines?\n",
      "How do you stay motivated to stream regularly?\n",
      "What's the hardest part about being a streamer?\n",
      "Any advice on building a community on Twitch?\n",
      "What are your thoughts on the latest game update?\n",
      "How do you balance streaming with personal life?\n",
      "What's your favorite streaming moment with viewers?\n",
      "How did you come up with your streamer name?\n",
      "What games are you looking forward to streaming next?\n",
      "Do you collaborate with other streamers?\n"
     ]
    }
   ],
   "source": [
    "questions = [\n",
    "    \"What's your favorite game to stream and why?\",\n",
    "    \"Any tips for new streamers just starting out?\",\n",
    "    \"What setup do you use for streaming?\",\n",
    "    \"How do you deal with trolls in chat?\",\n",
    "    \"Can you explain your stream schedule?\",\n",
    "    \"What was your most memorable streaming moment?\",\n",
    "    \"How do you choose what games to play on stream?\",\n",
    "    \"What's the best way to support your channel?\",\n",
    "    \"How long have you been streaming?\",\n",
    "    \"What do you enjoy most about streaming?\",\n",
    "    \"Do you have any streaming rituals or routines?\",\n",
    "    \"How do you stay motivated to stream regularly?\",\n",
    "    \"What's the hardest part about being a streamer?\",\n",
    "    \"Any advice on building a community on Twitch?\",\n",
    "    \"What are your thoughts on the latest game update?\",\n",
    "    \"How do you balance streaming with personal life?\",\n",
    "    \"What's your favorite streaming moment with viewers?\",\n",
    "    \"How did you come up with your streamer name?\",\n",
    "    \"What games are you looking forward to streaming next?\",\n",
    "    \"Do you collaborate with other streamers?\"\n",
    "]\n",
    "\n",
    "# Example output\n",
    "for question in questions:\n",
    "    print(question)\n"
   ]
  },
  {
   "cell_type": "markdown",
   "metadata": {},
   "source": [
    "# split questions and the rest"
   ]
  },
  {
   "cell_type": "code",
   "execution_count": 18,
   "metadata": {},
   "outputs": [],
   "source": [
    "def get_questions(chat_samples):\n",
    "    questions = [sentence for sentence in chat_samples if '?' in sentence]\n",
    "    return questions\n",
    "\n",
    "questions = get_questions(questions)"
   ]
  },
  {
   "cell_type": "markdown",
   "metadata": {},
   "source": [
    "# embeddings"
   ]
  },
  {
   "cell_type": "code",
   "execution_count": 19,
   "metadata": {},
   "outputs": [
    {
     "name": "stderr",
     "output_type": "stream",
     "text": [
      "100%|██████████| 20/20 [00:11<00:00,  1.70it/s]\n"
     ]
    }
   ],
   "source": [
    "def embed_sentence(sentence, model):\n",
    "    response = client.embeddings.create(\n",
    "        input=sentence,\n",
    "        model=model\n",
    "    )\n",
    "    return response.data[0].embedding\n",
    "\n",
    "df = pd.DataFrame(questions, columns=[\"question\"])\n",
    "df[\"embedding\"] = df[\"question\"].progress_apply(lambda x: embed_sentence(x, \"text-embedding-3-small\"))\n",
    "matrix = np.vstack(df.embedding.values)"
   ]
  },
  {
   "cell_type": "markdown",
   "metadata": {},
   "source": [
    "# cluster"
   ]
  },
  {
   "cell_type": "code",
   "execution_count": 20,
   "metadata": {},
   "outputs": [],
   "source": [
    "n_clusters = 3\n",
    "kmeans = KMeans(n_clusters=n_clusters, init=\"k-means++\", random_state=42)\n",
    "kmeans.fit(matrix)\n",
    "labels = kmeans.labels_\n",
    "df[\"Cluster\"] = labels\n",
    "\n"
   ]
  },
  {
   "cell_type": "code",
   "execution_count": 32,
   "metadata": {},
   "outputs": [
    {
     "data": {
      "text/plain": [
       "Cluster\n",
       "1    11\n",
       "2     7\n",
       "0     2\n",
       "Name: count, dtype: int64"
      ]
     },
     "execution_count": 32,
     "metadata": {},
     "output_type": "execute_result"
    }
   ],
   "source": [
    "df['Cluster'].value_counts()"
   ]
  },
  {
   "cell_type": "code",
   "execution_count": 31,
   "metadata": {},
   "outputs": [
    {
     "name": "stdout",
     "output_type": "stream",
     "text": [
      "Cluster 0 Theme: The questions are both related to strategies for improving and supporting a Twitch channel.\n",
      "Any advice on building a community on Twitch?\n",
      "What's the best way to support your channel?\n",
      "----------------------------------------------------------------------------------------------------\n",
      "Cluster 1 Theme: The questions are both related to strategies for improving and supporting a Twitch channel.\n",
      "How do you stay motivated to stream regularly?\n",
      "Any tips for new streamers just starting out?\n",
      "----------------------------------------------------------------------------------------------------\n",
      "Cluster 2 Theme: The questions are both seeking advice on improving and supporting a Twitch channel.\n",
      "What's your favorite game to stream and why?\n",
      "What setup do you use for streaming?\n",
      "----------------------------------------------------------------------------------------------------\n"
     ]
    }
   ],
   "source": [
    "rev_per_cluster = 2\n",
    "\n",
    "for i in range(n_clusters):\n",
    "    print(f\"Cluster {i} Theme:\", end=\" \")\n",
    "\n",
    "    reviews = \"\\n\".join(\n",
    "        df[df.Cluster == i].sample(rev_per_cluster, random_state=42).question.values\n",
    "    )\n",
    "\n",
    "    messages = [\n",
    "        {\"role\": \"user\", \"content\": f'What does these questions from a stream chat does have in common? \\n\\n{reviews} \\n \\n create a summary of the questions. \\n \\n summary :'},\n",
    "    ]\n",
    "\n",
    "    response = client.chat.completions.create(\n",
    "        model=\"gpt-4\",\n",
    "        messages=messages,\n",
    "        temperature=0,\n",
    "        max_tokens=64,\n",
    "        top_p=1,\n",
    "        frequency_penalty=0,\n",
    "        presence_penalty=0)\n",
    "    print(response.choices[0].message.content.strip())\n",
    "\n",
    "    # Assuming 'Score' and 'Summary' columns exist in your DataFrame, adjust accordingly\n",
    "    sample_cluster_rows = df[df.Cluster == i].sample(rev_per_cluster, random_state=42)\n",
    "    \n",
    "    for j in range(rev_per_cluster):\n",
    "        print(sample_cluster_rows.iloc[j]['question'][:70])  # Adjust based on your actual column names\n",
    "\n",
    "    print(\"-\" * 100)\n"
   ]
  },
  {
   "cell_type": "markdown",
   "metadata": {},
   "source": [
    "# VIZ"
   ]
  },
  {
   "cell_type": "code",
   "execution_count": 16,
   "metadata": {},
   "outputs": [
    {
     "name": "stderr",
     "output_type": "stream",
     "text": [
      "/Users/mano/miniconda3/envs/twitch-moderation-env/lib/python3.12/site-packages/numpy/core/fromnumeric.py:3504: RuntimeWarning:\n",
      "\n",
      "Mean of empty slice.\n",
      "\n",
      "/Users/mano/miniconda3/envs/twitch-moderation-env/lib/python3.12/site-packages/numpy/core/_methods.py:129: RuntimeWarning:\n",
      "\n",
      "invalid value encountered in divide\n",
      "\n"
     ]
    },
    {
     "data": {
      "application/vnd.plotly.v1+json": {
       "config": {
        "plotlyServerURL": "https://plot.ly"
       },
       "data": [
        {
         "marker": {
          "color": "purple",
          "opacity": 0.3,
          "size": 5
         },
         "mode": "markers",
         "name": "Cluster 0",
         "type": "scatter",
         "x": [
          -124.46285247802734,
          -91.64889526367188,
          -222.7719268798828,
          -174.423828125,
          -224.238037109375,
          -200.95335388183594,
          -90.01497650146484,
          -193.08473205566406,
          -194.093994140625,
          -105.97270965576172,
          -132.0626983642578,
          -207.2839813232422,
          -232.13804626464844
         ],
         "y": [
          -19.0246524810791,
          -45.63341522216797,
          -112.41712188720703,
          -156.7333526611328,
          202.24655151367188,
          181.1515350341797,
          -12.35582447052002,
          -128.5202178955078,
          212.00628662109375,
          -75.85894775390625,
          -51.781368255615234,
          -169.44805908203125,
          -146.4208984375
         ]
        },
        {
         "marker": {
          "color": "purple",
          "size": 10,
          "symbol": "x"
         },
         "mode": "markers",
         "name": "Center 0",
         "type": "scatter",
         "x": [
          -168.70384216308594
         ],
         "y": [
          -24.829959869384766
         ]
        },
        {
         "marker": {
          "color": "green",
          "opacity": 0.3,
          "size": 5
         },
         "mode": "markers",
         "name": "Cluster 1",
         "type": "scatter",
         "x": [
          166.28256225585938,
          190.8262176513672,
          221.48719787597656,
          151.29051208496094,
          155.6363525390625,
          187.9056396484375,
          202.29852294921875,
          188.56141662597656,
          115.14242553710938,
          179.3456573486328,
          159.1459503173828,
          190.82699584960938,
          236.64024353027344,
          126.48991394042969,
          147.6648712158203,
          231.8660125732422,
          171.5112762451172,
          174.28565979003906
         ],
         "y": [
          -118.14881134033203,
          -147.90621948242188,
          -172.19314575195312,
          -155.7701873779297,
          19.068096160888672,
          19.46506690979004,
          -113.78767395019531,
          -76.84435272216797,
          -195.84483337402344,
          -186.2329559326172,
          169.9668731689453,
          168.99913024902344,
          -133.67340087890625,
          -123.66754913330078,
          -84.14073181152344,
          -89.12035369873047,
          46.62877655029297,
          142.11143493652344
         ]
        },
        {
         "marker": {
          "color": "green",
          "size": 10,
          "symbol": "x"
         },
         "mode": "markers",
         "name": "Center 1",
         "type": "scatter",
         "x": [
          177.62261962890625
         ],
         "y": [
          -57.28282165527344
         ]
        },
        {
         "marker": {
          "color": "red",
          "opacity": 0.3,
          "size": 5
         },
         "mode": "markers",
         "name": "Cluster 2",
         "type": "scatter",
         "x": [
          21.027727127075195,
          -112.58540344238281,
          15.641959190368652,
          -20.265501022338867,
          20.61734962463379,
          13.583593368530273,
          -196.99607849121094,
          26.140174865722656,
          -19.579627990722656,
          55.180519104003906,
          -215.69398498535156,
          -117.07418060302734,
          -85.19273376464844,
          -74.51309204101562,
          -82.43285369873047,
          -6.953987121582031,
          -228.34080505371094,
          53.45756149291992
         ],
         "y": [
          -52.353919982910156,
          133.05885314941406,
          114.33406829833984,
          -96.26680755615234,
          81.30139923095703,
          -85.74234771728516,
          47.36956787109375,
          146.3114013671875,
          -62.25069808959961,
          126.69580841064453,
          21.8295955657959,
          99.99710083007812,
          85.96952056884766,
          117.33859252929688,
          150.24647521972656,
          -30.867687225341797,
          50.687782287597656,
          93.06423950195312
         ]
        },
        {
         "marker": {
          "color": "red",
          "size": 10,
          "symbol": "x"
         },
         "mode": "markers",
         "name": "Center 2",
         "type": "scatter",
         "x": [
          -52.99885559082031
         ],
         "y": [
          52.26239013671875
         ]
        },
        {
         "marker": {
          "color": "blue",
          "opacity": 0.3,
          "size": 5
         },
         "mode": "markers",
         "name": "Cluster 3",
         "type": "scatter",
         "x": [],
         "y": []
        },
        {
         "marker": {
          "color": "blue",
          "size": 10,
          "symbol": "x"
         },
         "mode": "markers",
         "name": "Center 3",
         "type": "scatter",
         "x": [
          null
         ],
         "y": [
          null
         ]
        }
       ],
       "layout": {
        "legend": {
         "title": {
          "text": "Clusters"
         }
        },
        "template": {
         "data": {
          "bar": [
           {
            "error_x": {
             "color": "#2a3f5f"
            },
            "error_y": {
             "color": "#2a3f5f"
            },
            "marker": {
             "line": {
              "color": "#E5ECF6",
              "width": 0.5
             },
             "pattern": {
              "fillmode": "overlay",
              "size": 10,
              "solidity": 0.2
             }
            },
            "type": "bar"
           }
          ],
          "barpolar": [
           {
            "marker": {
             "line": {
              "color": "#E5ECF6",
              "width": 0.5
             },
             "pattern": {
              "fillmode": "overlay",
              "size": 10,
              "solidity": 0.2
             }
            },
            "type": "barpolar"
           }
          ],
          "carpet": [
           {
            "aaxis": {
             "endlinecolor": "#2a3f5f",
             "gridcolor": "white",
             "linecolor": "white",
             "minorgridcolor": "white",
             "startlinecolor": "#2a3f5f"
            },
            "baxis": {
             "endlinecolor": "#2a3f5f",
             "gridcolor": "white",
             "linecolor": "white",
             "minorgridcolor": "white",
             "startlinecolor": "#2a3f5f"
            },
            "type": "carpet"
           }
          ],
          "choropleth": [
           {
            "colorbar": {
             "outlinewidth": 0,
             "ticks": ""
            },
            "type": "choropleth"
           }
          ],
          "contour": [
           {
            "colorbar": {
             "outlinewidth": 0,
             "ticks": ""
            },
            "colorscale": [
             [
              0,
              "#0d0887"
             ],
             [
              0.1111111111111111,
              "#46039f"
             ],
             [
              0.2222222222222222,
              "#7201a8"
             ],
             [
              0.3333333333333333,
              "#9c179e"
             ],
             [
              0.4444444444444444,
              "#bd3786"
             ],
             [
              0.5555555555555556,
              "#d8576b"
             ],
             [
              0.6666666666666666,
              "#ed7953"
             ],
             [
              0.7777777777777778,
              "#fb9f3a"
             ],
             [
              0.8888888888888888,
              "#fdca26"
             ],
             [
              1,
              "#f0f921"
             ]
            ],
            "type": "contour"
           }
          ],
          "contourcarpet": [
           {
            "colorbar": {
             "outlinewidth": 0,
             "ticks": ""
            },
            "type": "contourcarpet"
           }
          ],
          "heatmap": [
           {
            "colorbar": {
             "outlinewidth": 0,
             "ticks": ""
            },
            "colorscale": [
             [
              0,
              "#0d0887"
             ],
             [
              0.1111111111111111,
              "#46039f"
             ],
             [
              0.2222222222222222,
              "#7201a8"
             ],
             [
              0.3333333333333333,
              "#9c179e"
             ],
             [
              0.4444444444444444,
              "#bd3786"
             ],
             [
              0.5555555555555556,
              "#d8576b"
             ],
             [
              0.6666666666666666,
              "#ed7953"
             ],
             [
              0.7777777777777778,
              "#fb9f3a"
             ],
             [
              0.8888888888888888,
              "#fdca26"
             ],
             [
              1,
              "#f0f921"
             ]
            ],
            "type": "heatmap"
           }
          ],
          "heatmapgl": [
           {
            "colorbar": {
             "outlinewidth": 0,
             "ticks": ""
            },
            "colorscale": [
             [
              0,
              "#0d0887"
             ],
             [
              0.1111111111111111,
              "#46039f"
             ],
             [
              0.2222222222222222,
              "#7201a8"
             ],
             [
              0.3333333333333333,
              "#9c179e"
             ],
             [
              0.4444444444444444,
              "#bd3786"
             ],
             [
              0.5555555555555556,
              "#d8576b"
             ],
             [
              0.6666666666666666,
              "#ed7953"
             ],
             [
              0.7777777777777778,
              "#fb9f3a"
             ],
             [
              0.8888888888888888,
              "#fdca26"
             ],
             [
              1,
              "#f0f921"
             ]
            ],
            "type": "heatmapgl"
           }
          ],
          "histogram": [
           {
            "marker": {
             "pattern": {
              "fillmode": "overlay",
              "size": 10,
              "solidity": 0.2
             }
            },
            "type": "histogram"
           }
          ],
          "histogram2d": [
           {
            "colorbar": {
             "outlinewidth": 0,
             "ticks": ""
            },
            "colorscale": [
             [
              0,
              "#0d0887"
             ],
             [
              0.1111111111111111,
              "#46039f"
             ],
             [
              0.2222222222222222,
              "#7201a8"
             ],
             [
              0.3333333333333333,
              "#9c179e"
             ],
             [
              0.4444444444444444,
              "#bd3786"
             ],
             [
              0.5555555555555556,
              "#d8576b"
             ],
             [
              0.6666666666666666,
              "#ed7953"
             ],
             [
              0.7777777777777778,
              "#fb9f3a"
             ],
             [
              0.8888888888888888,
              "#fdca26"
             ],
             [
              1,
              "#f0f921"
             ]
            ],
            "type": "histogram2d"
           }
          ],
          "histogram2dcontour": [
           {
            "colorbar": {
             "outlinewidth": 0,
             "ticks": ""
            },
            "colorscale": [
             [
              0,
              "#0d0887"
             ],
             [
              0.1111111111111111,
              "#46039f"
             ],
             [
              0.2222222222222222,
              "#7201a8"
             ],
             [
              0.3333333333333333,
              "#9c179e"
             ],
             [
              0.4444444444444444,
              "#bd3786"
             ],
             [
              0.5555555555555556,
              "#d8576b"
             ],
             [
              0.6666666666666666,
              "#ed7953"
             ],
             [
              0.7777777777777778,
              "#fb9f3a"
             ],
             [
              0.8888888888888888,
              "#fdca26"
             ],
             [
              1,
              "#f0f921"
             ]
            ],
            "type": "histogram2dcontour"
           }
          ],
          "mesh3d": [
           {
            "colorbar": {
             "outlinewidth": 0,
             "ticks": ""
            },
            "type": "mesh3d"
           }
          ],
          "parcoords": [
           {
            "line": {
             "colorbar": {
              "outlinewidth": 0,
              "ticks": ""
             }
            },
            "type": "parcoords"
           }
          ],
          "pie": [
           {
            "automargin": true,
            "type": "pie"
           }
          ],
          "scatter": [
           {
            "fillpattern": {
             "fillmode": "overlay",
             "size": 10,
             "solidity": 0.2
            },
            "type": "scatter"
           }
          ],
          "scatter3d": [
           {
            "line": {
             "colorbar": {
              "outlinewidth": 0,
              "ticks": ""
             }
            },
            "marker": {
             "colorbar": {
              "outlinewidth": 0,
              "ticks": ""
             }
            },
            "type": "scatter3d"
           }
          ],
          "scattercarpet": [
           {
            "marker": {
             "colorbar": {
              "outlinewidth": 0,
              "ticks": ""
             }
            },
            "type": "scattercarpet"
           }
          ],
          "scattergeo": [
           {
            "marker": {
             "colorbar": {
              "outlinewidth": 0,
              "ticks": ""
             }
            },
            "type": "scattergeo"
           }
          ],
          "scattergl": [
           {
            "marker": {
             "colorbar": {
              "outlinewidth": 0,
              "ticks": ""
             }
            },
            "type": "scattergl"
           }
          ],
          "scattermapbox": [
           {
            "marker": {
             "colorbar": {
              "outlinewidth": 0,
              "ticks": ""
             }
            },
            "type": "scattermapbox"
           }
          ],
          "scatterpolar": [
           {
            "marker": {
             "colorbar": {
              "outlinewidth": 0,
              "ticks": ""
             }
            },
            "type": "scatterpolar"
           }
          ],
          "scatterpolargl": [
           {
            "marker": {
             "colorbar": {
              "outlinewidth": 0,
              "ticks": ""
             }
            },
            "type": "scatterpolargl"
           }
          ],
          "scatterternary": [
           {
            "marker": {
             "colorbar": {
              "outlinewidth": 0,
              "ticks": ""
             }
            },
            "type": "scatterternary"
           }
          ],
          "surface": [
           {
            "colorbar": {
             "outlinewidth": 0,
             "ticks": ""
            },
            "colorscale": [
             [
              0,
              "#0d0887"
             ],
             [
              0.1111111111111111,
              "#46039f"
             ],
             [
              0.2222222222222222,
              "#7201a8"
             ],
             [
              0.3333333333333333,
              "#9c179e"
             ],
             [
              0.4444444444444444,
              "#bd3786"
             ],
             [
              0.5555555555555556,
              "#d8576b"
             ],
             [
              0.6666666666666666,
              "#ed7953"
             ],
             [
              0.7777777777777778,
              "#fb9f3a"
             ],
             [
              0.8888888888888888,
              "#fdca26"
             ],
             [
              1,
              "#f0f921"
             ]
            ],
            "type": "surface"
           }
          ],
          "table": [
           {
            "cells": {
             "fill": {
              "color": "#EBF0F8"
             },
             "line": {
              "color": "white"
             }
            },
            "header": {
             "fill": {
              "color": "#C8D4E3"
             },
             "line": {
              "color": "white"
             }
            },
            "type": "table"
           }
          ]
         },
         "layout": {
          "annotationdefaults": {
           "arrowcolor": "#2a3f5f",
           "arrowhead": 0,
           "arrowwidth": 1
          },
          "autotypenumbers": "strict",
          "coloraxis": {
           "colorbar": {
            "outlinewidth": 0,
            "ticks": ""
           }
          },
          "colorscale": {
           "diverging": [
            [
             0,
             "#8e0152"
            ],
            [
             0.1,
             "#c51b7d"
            ],
            [
             0.2,
             "#de77ae"
            ],
            [
             0.3,
             "#f1b6da"
            ],
            [
             0.4,
             "#fde0ef"
            ],
            [
             0.5,
             "#f7f7f7"
            ],
            [
             0.6,
             "#e6f5d0"
            ],
            [
             0.7,
             "#b8e186"
            ],
            [
             0.8,
             "#7fbc41"
            ],
            [
             0.9,
             "#4d9221"
            ],
            [
             1,
             "#276419"
            ]
           ],
           "sequential": [
            [
             0,
             "#0d0887"
            ],
            [
             0.1111111111111111,
             "#46039f"
            ],
            [
             0.2222222222222222,
             "#7201a8"
            ],
            [
             0.3333333333333333,
             "#9c179e"
            ],
            [
             0.4444444444444444,
             "#bd3786"
            ],
            [
             0.5555555555555556,
             "#d8576b"
            ],
            [
             0.6666666666666666,
             "#ed7953"
            ],
            [
             0.7777777777777778,
             "#fb9f3a"
            ],
            [
             0.8888888888888888,
             "#fdca26"
            ],
            [
             1,
             "#f0f921"
            ]
           ],
           "sequentialminus": [
            [
             0,
             "#0d0887"
            ],
            [
             0.1111111111111111,
             "#46039f"
            ],
            [
             0.2222222222222222,
             "#7201a8"
            ],
            [
             0.3333333333333333,
             "#9c179e"
            ],
            [
             0.4444444444444444,
             "#bd3786"
            ],
            [
             0.5555555555555556,
             "#d8576b"
            ],
            [
             0.6666666666666666,
             "#ed7953"
            ],
            [
             0.7777777777777778,
             "#fb9f3a"
            ],
            [
             0.8888888888888888,
             "#fdca26"
            ],
            [
             1,
             "#f0f921"
            ]
           ]
          },
          "colorway": [
           "#636efa",
           "#EF553B",
           "#00cc96",
           "#ab63fa",
           "#FFA15A",
           "#19d3f3",
           "#FF6692",
           "#B6E880",
           "#FF97FF",
           "#FECB52"
          ],
          "font": {
           "color": "#2a3f5f"
          },
          "geo": {
           "bgcolor": "white",
           "lakecolor": "white",
           "landcolor": "#E5ECF6",
           "showlakes": true,
           "showland": true,
           "subunitcolor": "white"
          },
          "hoverlabel": {
           "align": "left"
          },
          "hovermode": "closest",
          "mapbox": {
           "style": "light"
          },
          "paper_bgcolor": "white",
          "plot_bgcolor": "#E5ECF6",
          "polar": {
           "angularaxis": {
            "gridcolor": "white",
            "linecolor": "white",
            "ticks": ""
           },
           "bgcolor": "#E5ECF6",
           "radialaxis": {
            "gridcolor": "white",
            "linecolor": "white",
            "ticks": ""
           }
          },
          "scene": {
           "xaxis": {
            "backgroundcolor": "#E5ECF6",
            "gridcolor": "white",
            "gridwidth": 2,
            "linecolor": "white",
            "showbackground": true,
            "ticks": "",
            "zerolinecolor": "white"
           },
           "yaxis": {
            "backgroundcolor": "#E5ECF6",
            "gridcolor": "white",
            "gridwidth": 2,
            "linecolor": "white",
            "showbackground": true,
            "ticks": "",
            "zerolinecolor": "white"
           },
           "zaxis": {
            "backgroundcolor": "#E5ECF6",
            "gridcolor": "white",
            "gridwidth": 2,
            "linecolor": "white",
            "showbackground": true,
            "ticks": "",
            "zerolinecolor": "white"
           }
          },
          "shapedefaults": {
           "line": {
            "color": "#2a3f5f"
           }
          },
          "ternary": {
           "aaxis": {
            "gridcolor": "white",
            "linecolor": "white",
            "ticks": ""
           },
           "baxis": {
            "gridcolor": "white",
            "linecolor": "white",
            "ticks": ""
           },
           "bgcolor": "#E5ECF6",
           "caxis": {
            "gridcolor": "white",
            "linecolor": "white",
            "ticks": ""
           }
          },
          "title": {
           "x": 0.05
          },
          "xaxis": {
           "automargin": true,
           "gridcolor": "white",
           "linecolor": "white",
           "ticks": "",
           "title": {
            "standoff": 15
           },
           "zerolinecolor": "white",
           "zerolinewidth": 2
          },
          "yaxis": {
           "automargin": true,
           "gridcolor": "white",
           "linecolor": "white",
           "ticks": "",
           "title": {
            "standoff": 15
           },
           "zerolinecolor": "white",
           "zerolinewidth": 2
          }
         }
        },
        "title": {
         "text": "Clusters identified visualized in 2D using t-SNE with Plotly"
        },
        "xaxis": {
         "title": {
          "text": "t-SNE Dimension 1"
         }
        },
        "yaxis": {
         "title": {
          "text": "t-SNE Dimension 2"
         }
        }
       }
      }
     },
     "metadata": {},
     "output_type": "display_data"
    }
   ],
   "source": [
    "import plotly.graph_objects as go\n",
    "import numpy as np\n",
    "\n",
    "from sklearn.manifold import TSNE\n",
    "import numpy as np\n",
    "\n",
    "\n",
    "# Initialize and fit t-SNE\n",
    "tsne = TSNE(n_components=2, perplexity=30, random_state=42)\n",
    "X_embedded = tsne.fit_transform(matrix)\n",
    "\n",
    "# 'X_embedded' is the transformed data matrix with reduced dimensions (n_samples, n_components)\n",
    "\n",
    "\n",
    "tsne = TSNE(n_components=2, perplexity=15, random_state=42, init=\"random\", learning_rate=200)\n",
    "vis_dims2 = tsne.fit_transform(matrix)\n",
    "\n",
    "# Splitting the transformed data\n",
    "x = [x for x, y in vis_dims2]\n",
    "y = [y for x, y in vis_dims2]\n",
    "\n",
    "# Creating a Plotly figure\n",
    "fig = go.Figure()\n",
    "\n",
    "# Colors for each category/cluster\n",
    "colors = [\"purple\", \"green\", \"red\", \"blue\"]\n",
    "\n",
    "for category, color in enumerate(colors):\n",
    "    # Filter points belonging to the current category/cluster\n",
    "    xs = np.array(x)[df.Cluster == category]\n",
    "    ys = np.array(y)[df.Cluster == category]\n",
    "    \n",
    "    # Add scatter plot for points in the cluster\n",
    "    fig.add_trace(go.Scatter(x=xs, y=ys, mode='markers', name=f'Cluster {category}',\n",
    "                             marker=dict(color=color, opacity=0.3, size=5)))\n",
    "    \n",
    "    # Calculate the average position for the cluster center\n",
    "    avg_x = np.mean(xs)\n",
    "    avg_y = np.mean(ys)\n",
    "    \n",
    "    # Add scatter plot for the cluster center\n",
    "    fig.add_trace(go.Scatter(x=[avg_x], y=[avg_y], mode='markers', name=f'Center {category}',\n",
    "                             marker=dict(color=color, size=10, symbol=\"x\")))\n",
    "\n",
    "# Updating the layout of the figure\n",
    "fig.update_layout(title=\"Clusters identified visualized in 2D using t-SNE with Plotly\",\n",
    "                  xaxis_title=\"t-SNE Dimension 1\",\n",
    "                  yaxis_title=\"t-SNE Dimension 2\",\n",
    "                  legend_title=\"Clusters\")\n",
    "\n",
    "# Show the figure\n",
    "fig.show()\n"
   ]
  },
  {
   "cell_type": "code",
   "execution_count": null,
   "metadata": {},
   "outputs": [],
   "source": []
  },
  {
   "cell_type": "code",
   "execution_count": 33,
   "metadata": {},
   "outputs": [
    {
     "name": "stderr",
     "output_type": "stream",
     "text": [
      "100%|██████████| 20/20 [00:38<00:00,  1.91s/it]\n"
     ]
    }
   ],
   "source": [
    "from sklearn.cluster import KMeans\n",
    "from dotenv import load_dotenv\n",
    "from openai import OpenAI\n",
    "from tqdm import tqdm\n",
    "import pandas as pd\n",
    "import numpy as np\n",
    "import json\n",
    "import os\n",
    "\n",
    "# Load environment variables from .env file\n",
    "load_dotenv()\n",
    "\n",
    "# Enable tqdm pandas\n",
    "tqdm.pandas()\n",
    "\n",
    "OPENAI_API_KEY=os.environ.get(\"OPENAI_API_KEY\")\n",
    "client = OpenAI(api_key=OPENAI_API_KEY)\n",
    "\n",
    "def get_questions(chat_samples):\n",
    "    questions = [sentence for sentence in chat_samples if '?' in sentence]\n",
    "    return questions\n",
    "\n",
    "def initialize_df(questions):\n",
    "    df = pd.DataFrame(questions, columns=[\"question\"])\n",
    "    return df\n",
    "\n",
    "def embed_sentence(sentence, model):\n",
    "    response = client.embeddings.create(\n",
    "        input=sentence,\n",
    "        model=model\n",
    "    )\n",
    "    return response.data[0].embedding\n",
    "\n",
    "def k_means_clustering(matrix, n_clusters = 5):\n",
    "    kmeans = KMeans(n_clusters=n_clusters, init=\"k-means++\", random_state=42)\n",
    "    kmeans.fit(matrix)\n",
    "    labels = kmeans.labels_\n",
    "    return labels\n",
    "    \n",
    "\n",
    "def create_cluster_name(df, n_clusters, rev_per_cluster=5):\n",
    "    cluster_themes = []\n",
    "\n",
    "\n",
    "\n",
    "    for i in range(n_clusters):\n",
    "\n",
    "        cluster_size = df[df.Cluster == i].shape[0]\n",
    "        if cluster_size < rev_per_cluster:\n",
    "            rev_per_cluster = cluster_size\n",
    "\n",
    "        questions = \"\\n\".join(\n",
    "            df[df.Cluster == i].sample(rev_per_cluster, random_state=42).question.values\n",
    "        )\n",
    "\n",
    "        messages = [\n",
    "            {\"role\": \"user\", \"content\": f'What do the following questions in a stream channel have in common?\\n\\nUser question:\\n\"\"\"\\n{questions}\\n\"\"\"\\n\\nTheme:'},\n",
    "        ]\n",
    "\n",
    "        response = client.chat.completions.create(\n",
    "            model=\"gpt-3.5-turbo\",\n",
    "            messages=messages,\n",
    "            temperature=0,\n",
    "            max_tokens=64,\n",
    "            top_p=1,\n",
    "            frequency_penalty=0,\n",
    "            presence_penalty=0)\n",
    "\n",
    "        theme = response.choices[0].message.content.strip()\n",
    "        questions_list = questions.split(\"\\n\")\n",
    "\n",
    "        cluster_themes.append({\n",
    "            \"cluster\": i,\n",
    "            \"theme\": theme,\n",
    "            \"questions\": questions_list\n",
    "        })\n",
    "\n",
    "    return json.dumps(cluster_themes, ensure_ascii=False, indent=2)\n",
    "\n",
    "input = [\n",
    "    \"What's your favorite game to stream and why?\",\n",
    "    \"Any tips for new streamers just starting out?\",\n",
    "    \"What setup do you use for streaming?\",\n",
    "    \"How do you deal with trolls in chat?\",\n",
    "    \"Can you explain your stream schedule?\",\n",
    "    \"What was your most memorable streaming moment?\",\n",
    "    \"How do you choose what games to play on stream?\",\n",
    "    \"What's the best way to support your channel?\",\n",
    "    \"How long have you been streaming?\",\n",
    "    \"What do you enjoy most about streaming?\",\n",
    "    \"Do you have any streaming rituals or routines?\",\n",
    "    \"How do you stay motivated to stream regularly?\",\n",
    "    \"What's the hardest part about being a streamer?\",\n",
    "    \"Any advice on building a community on Twitch?\",\n",
    "    \"What are your thoughts on the latest game update?\",\n",
    "    \"How do you balance streaming with personal life?\",\n",
    "    \"What's your favorite streaming moment with viewers?\",\n",
    "    \"How did you come up with your streamer name?\",\n",
    "    \"What games are you looking forward to streaming next?\",\n",
    "    \"Do you collaborate with other streamers?\"\n",
    "    ]\n",
    "\n",
    "# get the last n_samples from the input\n",
    "input = input[-100:]\n",
    "\n",
    "# get the questions from the input\n",
    "questions = get_questions(input)\n",
    "\n",
    "# initialize the dataframe\n",
    "df = initialize_df(questions)\n",
    "\n",
    "# embed the questions\n",
    "df[\"embedding\"] = df[\"question\"].progress_apply(lambda x: embed_sentence(x, \"text-embedding-3-small\"))\n",
    "\n"
   ]
  },
  {
   "cell_type": "code",
   "execution_count": 35,
   "metadata": {},
   "outputs": [
    {
     "data": {
      "text/html": [
       "<div>\n",
       "<style scoped>\n",
       "    .dataframe tbody tr th:only-of-type {\n",
       "        vertical-align: middle;\n",
       "    }\n",
       "\n",
       "    .dataframe tbody tr th {\n",
       "        vertical-align: top;\n",
       "    }\n",
       "\n",
       "    .dataframe thead th {\n",
       "        text-align: right;\n",
       "    }\n",
       "</style>\n",
       "<table border=\"1\" class=\"dataframe\">\n",
       "  <thead>\n",
       "    <tr style=\"text-align: right;\">\n",
       "      <th></th>\n",
       "      <th>question</th>\n",
       "      <th>embedding</th>\n",
       "    </tr>\n",
       "  </thead>\n",
       "  <tbody>\n",
       "    <tr>\n",
       "      <th>0</th>\n",
       "      <td>What's your favorite game to stream and why?</td>\n",
       "      <td>[0.024319134652614594, -0.05626320838928223, -...</td>\n",
       "    </tr>\n",
       "    <tr>\n",
       "      <th>1</th>\n",
       "      <td>Any tips for new streamers just starting out?</td>\n",
       "      <td>[0.03445218876004219, -0.010319043882191181, -...</td>\n",
       "    </tr>\n",
       "    <tr>\n",
       "      <th>2</th>\n",
       "      <td>What setup do you use for streaming?</td>\n",
       "      <td>[-0.0057601905427873135, -0.04952836036682129,...</td>\n",
       "    </tr>\n",
       "    <tr>\n",
       "      <th>3</th>\n",
       "      <td>How do you deal with trolls in chat?</td>\n",
       "      <td>[-0.020598677918314934, -0.03679736703634262, ...</td>\n",
       "    </tr>\n",
       "    <tr>\n",
       "      <th>4</th>\n",
       "      <td>Can you explain your stream schedule?</td>\n",
       "      <td>[0.022722115740180016, -0.011309947818517685, ...</td>\n",
       "    </tr>\n",
       "    <tr>\n",
       "      <th>5</th>\n",
       "      <td>What was your most memorable streaming moment?</td>\n",
       "      <td>[0.037777986377477646, -0.07231466472148895, 0...</td>\n",
       "    </tr>\n",
       "    <tr>\n",
       "      <th>6</th>\n",
       "      <td>How do you choose what games to play on stream?</td>\n",
       "      <td>[0.0034936275333166122, -0.03109895810484886, ...</td>\n",
       "    </tr>\n",
       "    <tr>\n",
       "      <th>7</th>\n",
       "      <td>What's the best way to support your channel?</td>\n",
       "      <td>[0.021202312782406807, -0.02188274636864662, -...</td>\n",
       "    </tr>\n",
       "    <tr>\n",
       "      <th>8</th>\n",
       "      <td>How long have you been streaming?</td>\n",
       "      <td>[0.02557915262877941, -0.05364077165722847, 0....</td>\n",
       "    </tr>\n",
       "    <tr>\n",
       "      <th>9</th>\n",
       "      <td>What do you enjoy most about streaming?</td>\n",
       "      <td>[0.04390798136591911, -0.036281563341617584, 0...</td>\n",
       "    </tr>\n",
       "    <tr>\n",
       "      <th>10</th>\n",
       "      <td>Do you have any streaming rituals or routines?</td>\n",
       "      <td>[0.006833749823272228, -0.008812520653009415, ...</td>\n",
       "    </tr>\n",
       "    <tr>\n",
       "      <th>11</th>\n",
       "      <td>How do you stay motivated to stream regularly?</td>\n",
       "      <td>[0.04129550978541374, 0.01457009743899107, -0....</td>\n",
       "    </tr>\n",
       "    <tr>\n",
       "      <th>12</th>\n",
       "      <td>What's the hardest part about being a streamer?</td>\n",
       "      <td>[0.045260969549417496, -0.02313368022441864, 0...</td>\n",
       "    </tr>\n",
       "    <tr>\n",
       "      <th>13</th>\n",
       "      <td>Any advice on building a community on Twitch?</td>\n",
       "      <td>[0.03974338248372078, 6.628842675127089e-05, 0...</td>\n",
       "    </tr>\n",
       "    <tr>\n",
       "      <th>14</th>\n",
       "      <td>What are your thoughts on the latest game update?</td>\n",
       "      <td>[0.009663974866271019, -0.03370878845453262, -...</td>\n",
       "    </tr>\n",
       "    <tr>\n",
       "      <th>15</th>\n",
       "      <td>How do you balance streaming with personal life?</td>\n",
       "      <td>[0.06353681534528732, -0.004884280264377594, 0...</td>\n",
       "    </tr>\n",
       "    <tr>\n",
       "      <th>16</th>\n",
       "      <td>What's your favorite streaming moment with vie...</td>\n",
       "      <td>[0.04374416545033455, -0.05213543400168419, 0....</td>\n",
       "    </tr>\n",
       "    <tr>\n",
       "      <th>17</th>\n",
       "      <td>How did you come up with your streamer name?</td>\n",
       "      <td>[0.07408066838979721, -0.07135109603404999, -0...</td>\n",
       "    </tr>\n",
       "    <tr>\n",
       "      <th>18</th>\n",
       "      <td>What games are you looking forward to streamin...</td>\n",
       "      <td>[0.03138497471809387, -0.01987888291478157, 0....</td>\n",
       "    </tr>\n",
       "    <tr>\n",
       "      <th>19</th>\n",
       "      <td>Do you collaborate with other streamers?</td>\n",
       "      <td>[0.007329787593334913, -0.036663006991147995, ...</td>\n",
       "    </tr>\n",
       "  </tbody>\n",
       "</table>\n",
       "</div>"
      ],
      "text/plain": [
       "                                             question  \\\n",
       "0        What's your favorite game to stream and why?   \n",
       "1       Any tips for new streamers just starting out?   \n",
       "2                What setup do you use for streaming?   \n",
       "3                How do you deal with trolls in chat?   \n",
       "4               Can you explain your stream schedule?   \n",
       "5      What was your most memorable streaming moment?   \n",
       "6     How do you choose what games to play on stream?   \n",
       "7        What's the best way to support your channel?   \n",
       "8                   How long have you been streaming?   \n",
       "9             What do you enjoy most about streaming?   \n",
       "10     Do you have any streaming rituals or routines?   \n",
       "11     How do you stay motivated to stream regularly?   \n",
       "12    What's the hardest part about being a streamer?   \n",
       "13      Any advice on building a community on Twitch?   \n",
       "14  What are your thoughts on the latest game update?   \n",
       "15   How do you balance streaming with personal life?   \n",
       "16  What's your favorite streaming moment with vie...   \n",
       "17       How did you come up with your streamer name?   \n",
       "18  What games are you looking forward to streamin...   \n",
       "19           Do you collaborate with other streamers?   \n",
       "\n",
       "                                            embedding  \n",
       "0   [0.024319134652614594, -0.05626320838928223, -...  \n",
       "1   [0.03445218876004219, -0.010319043882191181, -...  \n",
       "2   [-0.0057601905427873135, -0.04952836036682129,...  \n",
       "3   [-0.020598677918314934, -0.03679736703634262, ...  \n",
       "4   [0.022722115740180016, -0.011309947818517685, ...  \n",
       "5   [0.037777986377477646, -0.07231466472148895, 0...  \n",
       "6   [0.0034936275333166122, -0.03109895810484886, ...  \n",
       "7   [0.021202312782406807, -0.02188274636864662, -...  \n",
       "8   [0.02557915262877941, -0.05364077165722847, 0....  \n",
       "9   [0.04390798136591911, -0.036281563341617584, 0...  \n",
       "10  [0.006833749823272228, -0.008812520653009415, ...  \n",
       "11  [0.04129550978541374, 0.01457009743899107, -0....  \n",
       "12  [0.045260969549417496, -0.02313368022441864, 0...  \n",
       "13  [0.03974338248372078, 6.628842675127089e-05, 0...  \n",
       "14  [0.009663974866271019, -0.03370878845453262, -...  \n",
       "15  [0.06353681534528732, -0.004884280264377594, 0...  \n",
       "16  [0.04374416545033455, -0.05213543400168419, 0....  \n",
       "17  [0.07408066838979721, -0.07135109603404999, -0...  \n",
       "18  [0.03138497471809387, -0.01987888291478157, 0....  \n",
       "19  [0.007329787593334913, -0.036663006991147995, ...  "
      ]
     },
     "execution_count": 35,
     "metadata": {},
     "output_type": "execute_result"
    }
   ],
   "source": [
    "df"
   ]
  },
  {
   "cell_type": "code",
   "execution_count": 36,
   "metadata": {},
   "outputs": [],
   "source": [
    "# cluster the questions\n",
    "matrix = np.vstack(df[\"embedding\"].values)\n",
    "labels = k_means_clustering(matrix, n_clusters)\n",
    "df[\"Cluster\"] = labels\n",
    "\n"
   ]
  },
  {
   "cell_type": "code",
   "execution_count": 39,
   "metadata": {},
   "outputs": [
    {
     "data": {
      "text/plain": [
       "Cluster\n",
       "1    11\n",
       "2     7\n",
       "0     2\n",
       "Name: count, dtype: int64"
      ]
     },
     "execution_count": 39,
     "metadata": {},
     "output_type": "execute_result"
    }
   ],
   "source": [
    "df['Cluster'].value_counts()"
   ]
  },
  {
   "cell_type": "code",
   "execution_count": 38,
   "metadata": {},
   "outputs": [
    {
     "name": "stdout",
     "output_type": "stream",
     "text": [
      "[\n",
      "  {\n",
      "    \"cluster\": 0,\n",
      "    \"theme\": \"Growing and Supporting a Twitch Channel\",\n",
      "    \"questions\": [\n",
      "      \"Any advice on building a community on Twitch?\",\n",
      "      \"What's the best way to support your channel?\"\n",
      "    ]\n",
      "  },\n",
      "  {\n",
      "    \"cluster\": 1,\n",
      "    \"theme\": \"Streaming Advice/Tips\",\n",
      "    \"questions\": [\n",
      "      \"How do you stay motivated to stream regularly?\",\n",
      "      \"Any tips for new streamers just starting out?\"\n",
      "    ]\n",
      "  },\n",
      "  {\n",
      "    \"cluster\": 2,\n",
      "    \"theme\": \"Streaming Preferences and Setup\",\n",
      "    \"questions\": [\n",
      "      \"What's your favorite game to stream and why?\",\n",
      "      \"What setup do you use for streaming?\"\n",
      "    ]\n",
      "  }\n",
      "]\n"
     ]
    }
   ],
   "source": [
    "# create the cluster names and return the result\n",
    "result = create_cluster_name(df, n_clusters, rev_per_cluster = 5)\n",
    "\n",
    "print(result)"
   ]
  },
  {
   "cell_type": "code",
   "execution_count": 42,
   "metadata": {},
   "outputs": [
    {
     "name": "stdout",
     "output_type": "stream",
     "text": [
      "2\n",
      "2\n",
      "11\n",
      "2\n",
      "7\n",
      "2\n"
     ]
    }
   ],
   "source": [
    "cluster_themes = []\n",
    "\n",
    "\n",
    "\n",
    "for i in range(n_clusters):\n",
    "\n",
    "    cluster_size = df[df.Cluster == i].shape[0]\n",
    "    print(cluster_size)\n",
    "    if cluster_size < rev_per_cluster:\n",
    "        rev_per_cluster = cluster_size\n",
    "\n",
    "    print(rev_per_cluster)"
   ]
  },
  {
   "cell_type": "code",
   "execution_count": null,
   "metadata": {},
   "outputs": [],
   "source": []
  }
 ],
 "metadata": {
  "kernelspec": {
   "display_name": "twitch-moderation-env",
   "language": "python",
   "name": "python3"
  },
  "language_info": {
   "codemirror_mode": {
    "name": "ipython",
    "version": 3
   },
   "file_extension": ".py",
   "mimetype": "text/x-python",
   "name": "python",
   "nbconvert_exporter": "python",
   "pygments_lexer": "ipython3",
   "version": "3.12.1"
  }
 },
 "nbformat": 4,
 "nbformat_minor": 2
}
